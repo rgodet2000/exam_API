{
 "cells": [
  {
   "cell_type": "code",
   "execution_count": 2,
   "metadata": {},
   "outputs": [
    {
     "data": {
      "text/html": [
       "<div>\n",
       "<style scoped>\n",
       "    .dataframe tbody tr th:only-of-type {\n",
       "        vertical-align: middle;\n",
       "    }\n",
       "\n",
       "    .dataframe tbody tr th {\n",
       "        vertical-align: top;\n",
       "    }\n",
       "\n",
       "    .dataframe thead th {\n",
       "        text-align: right;\n",
       "    }\n",
       "</style>\n",
       "<table border=\"1\" class=\"dataframe\">\n",
       "  <thead>\n",
       "    <tr style=\"text-align: right;\">\n",
       "      <th></th>\n",
       "      <th>question</th>\n",
       "      <th>subject</th>\n",
       "      <th>use</th>\n",
       "      <th>correct</th>\n",
       "      <th>responseA</th>\n",
       "      <th>responseB</th>\n",
       "      <th>responseC</th>\n",
       "      <th>responseD</th>\n",
       "      <th>remark</th>\n",
       "    </tr>\n",
       "  </thead>\n",
       "  <tbody>\n",
       "    <tr>\n",
       "      <th>0</th>\n",
       "      <td>Que signifie le sigle No-SQL ?</td>\n",
       "      <td>BDD</td>\n",
       "      <td>Test de positionnement</td>\n",
       "      <td>A</td>\n",
       "      <td>Pas seulement SQL</td>\n",
       "      <td>Pas de SQL</td>\n",
       "      <td>Pas tout SQL</td>\n",
       "      <td>NaN</td>\n",
       "      <td>NaN</td>\n",
       "    </tr>\n",
       "    <tr>\n",
       "      <th>1</th>\n",
       "      <td>Cassandra et HBase sont des bases de données</td>\n",
       "      <td>BDD</td>\n",
       "      <td>Test de positionnement</td>\n",
       "      <td>C</td>\n",
       "      <td>relationnelles</td>\n",
       "      <td>orientées objet</td>\n",
       "      <td>orientées colonne</td>\n",
       "      <td>orientées graphe</td>\n",
       "      <td>NaN</td>\n",
       "    </tr>\n",
       "    <tr>\n",
       "      <th>2</th>\n",
       "      <td>MongoDB et CouchDB sont des bases de données</td>\n",
       "      <td>BDD</td>\n",
       "      <td>Test de positionnement</td>\n",
       "      <td>B</td>\n",
       "      <td>relationnelles</td>\n",
       "      <td>orientées objet</td>\n",
       "      <td>orientées colonne</td>\n",
       "      <td>orientées graphe</td>\n",
       "      <td>NaN</td>\n",
       "    </tr>\n",
       "    <tr>\n",
       "      <th>3</th>\n",
       "      <td>OrientDB et Neo4J sont des bases de données</td>\n",
       "      <td>BDD</td>\n",
       "      <td>Test de positionnement</td>\n",
       "      <td>D</td>\n",
       "      <td>relationnelles</td>\n",
       "      <td>orientées objet</td>\n",
       "      <td>orientées colonne</td>\n",
       "      <td>orientées graphe</td>\n",
       "      <td>NaN</td>\n",
       "    </tr>\n",
       "    <tr>\n",
       "      <th>4</th>\n",
       "      <td>Pour indexer des données textuelles, je peux u...</td>\n",
       "      <td>BDD</td>\n",
       "      <td>Test de positionnement</td>\n",
       "      <td>A</td>\n",
       "      <td>ElasticSearch</td>\n",
       "      <td>Neo4J</td>\n",
       "      <td>MySQL</td>\n",
       "      <td>NaN</td>\n",
       "      <td>NaN</td>\n",
       "    </tr>\n",
       "  </tbody>\n",
       "</table>\n",
       "</div>"
      ],
      "text/plain": [
       "                                            question subject  \\\n",
       "0                     Que signifie le sigle No-SQL ?     BDD   \n",
       "1       Cassandra et HBase sont des bases de données     BDD   \n",
       "2       MongoDB et CouchDB sont des bases de données     BDD   \n",
       "3        OrientDB et Neo4J sont des bases de données     BDD   \n",
       "4  Pour indexer des données textuelles, je peux u...     BDD   \n",
       "\n",
       "                      use correct          responseA        responseB  \\\n",
       "0  Test de positionnement       A  Pas seulement SQL       Pas de SQL   \n",
       "1  Test de positionnement       C     relationnelles  orientées objet   \n",
       "2  Test de positionnement       B     relationnelles  orientées objet   \n",
       "3  Test de positionnement       D     relationnelles  orientées objet   \n",
       "4  Test de positionnement       A      ElasticSearch            Neo4J   \n",
       "\n",
       "           responseC         responseD remark  \n",
       "0       Pas tout SQL               NaN    NaN  \n",
       "1  orientées colonne  orientées graphe    NaN  \n",
       "2  orientées colonne  orientées graphe    NaN  \n",
       "3  orientées colonne  orientées graphe    NaN  \n",
       "4              MySQL               NaN    NaN  "
      ]
     },
     "execution_count": 2,
     "metadata": {},
     "output_type": "execute_result"
    }
   ],
   "source": [
    "import pandas as pd\n",
    "from fastapi.security import HTTPBasic, HTTPBasicCredentials\n",
    "df = pd.read_csv(\"questions.csv\", index_col = False)\n",
    "df.head()"
   ]
  },
  {
   "cell_type": "code",
   "execution_count": 3,
   "metadata": {},
   "outputs": [
    {
     "data": {
      "text/plain": [
       "['__annotations__',\n",
       " '__call__',\n",
       " '__class__',\n",
       " '__delattr__',\n",
       " '__dict__',\n",
       " '__dir__',\n",
       " '__doc__',\n",
       " '__eq__',\n",
       " '__format__',\n",
       " '__ge__',\n",
       " '__getattribute__',\n",
       " '__gt__',\n",
       " '__hash__',\n",
       " '__init__',\n",
       " '__init_subclass__',\n",
       " '__le__',\n",
       " '__lt__',\n",
       " '__module__',\n",
       " '__ne__',\n",
       " '__new__',\n",
       " '__reduce__',\n",
       " '__reduce_ex__',\n",
       " '__repr__',\n",
       " '__setattr__',\n",
       " '__sizeof__',\n",
       " '__str__',\n",
       " '__subclasshook__',\n",
       " '__weakref__']"
      ]
     },
     "execution_count": 3,
     "metadata": {},
     "output_type": "execute_result"
    }
   ],
   "source": [
    "dir(HTTPBasic)"
   ]
  },
  {
   "cell_type": "code",
   "execution_count": 11,
   "metadata": {},
   "outputs": [
    {
     "data": {
      "text/plain": [
       "{'model': HTTPBase(type_=<SecuritySchemeType.http: 'http'>, description=None, scheme='basic'),\n",
       " 'scheme_name': 'HTTPBasic',\n",
       " 'realm': None,\n",
       " 'auto_error': True}"
      ]
     },
     "execution_count": 11,
     "metadata": {},
     "output_type": "execute_result"
    }
   ],
   "source": [
    "HTTPBasic().__dict__"
   ]
  },
  {
   "cell_type": "code",
   "execution_count": 7,
   "metadata": {},
   "outputs": [],
   "source": [
    "subjects = list(df[\"subject\"].unique())\n",
    "uses = list(df[\"use\"].unique())"
   ]
  },
  {
   "cell_type": "code",
   "execution_count": 8,
   "metadata": {},
   "outputs": [
    {
     "data": {
      "text/plain": [
       "['BDD',\n",
       " 'Systèmes distribués',\n",
       " 'Streaming de données',\n",
       " 'Docker',\n",
       " 'Classification',\n",
       " 'Sytèmes distribués',\n",
       " 'Data Science',\n",
       " 'Machine Learning',\n",
       " 'Automation']"
      ]
     },
     "execution_count": 8,
     "metadata": {},
     "output_type": "execute_result"
    }
   ],
   "source": [
    "subjects"
   ]
  },
  {
   "cell_type": "code",
   "execution_count": 34,
   "metadata": {},
   "outputs": [
    {
     "data": {
      "text/plain": [
       "'BDDSystèmes distribuésStreaming de donnéesDockerClassificationSytèmes distribuésData ScienceMachine LearningAutomation'"
      ]
     },
     "execution_count": 34,
     "metadata": {},
     "output_type": "execute_result"
    }
   ],
   "source": [
    "\"\".join(subjects)"
   ]
  },
  {
   "cell_type": "code",
   "execution_count": 80,
   "metadata": {},
   "outputs": [],
   "source": [
    "def generate(nb, use, subjects):\n",
    "    string = \"\".join(subjects)\n",
    "    data = df.copy()\n",
    "    data[\"is_in\"] = data[\"subject\"].apply(lambda x : x in string)\n",
    "    data = data.loc[(data[\"is_in\"]) & (data[\"use\"]==use)]\n",
    "    return data.drop([\"is_in\", \"correct\", \"subject\", \"use\"], axis = 1).sample(5).T.to_json()"
   ]
  },
  {
   "cell_type": "code",
   "execution_count": 81,
   "metadata": {},
   "outputs": [
    {
     "data": {
      "text/plain": [
       "'{\"3\":{\"question\":\"OrientDB et Neo4J sont des bases de donn\\\\u00e9es\",\"responseA\":\"relationnelles\",\"responseB\":\"orient\\\\u00e9es objet\",\"responseC\":\"orient\\\\u00e9es colonne\",\"responseD\":\"orient\\\\u00e9es graphe\",\"remark\":null},\"0\":{\"question\":\"Que signifie le sigle No-SQL ?\",\"responseA\":\"Pas seulement SQL\",\"responseB\":\"Pas de SQL\",\"responseC\":\"Pas tout SQL\",\"responseD\":null,\"remark\":null},\"1\":{\"question\":\"Cassandra et HBase sont des bases de donn\\\\u00e9es\",\"responseA\":\"relationnelles\",\"responseB\":\"orient\\\\u00e9es objet\",\"responseC\":\"orient\\\\u00e9es colonne\",\"responseD\":\"orient\\\\u00e9es graphe\",\"remark\":null},\"5\":{\"question\":\"A quoi faire attention lorsqu\\'on choisit un syst\\\\u00e8me de base de donn\\\\u00e9es ?\",\"responseA\":\"La d\\\\u00e9finition d\\'un sch\\\\u00e9ma\",\"responseB\":\"La rapidit\\\\u00e9 de lecture\\\\/\\\\u00e9criture\",\"responseC\":\"La diff\\\\u00e9renciation des acc\\\\u00e9s\",\"responseD\":\"Tous ces points\",\"remark\":null},\"2\":{\"question\":\"MongoDB et CouchDB sont des bases de donn\\\\u00e9es\",\"responseA\":\"relationnelles\",\"responseB\":\"orient\\\\u00e9es objet\",\"responseC\":\"orient\\\\u00e9es colonne\",\"responseD\":\"orient\\\\u00e9es graphe\",\"remark\":null}}'"
      ]
     },
     "execution_count": 81,
     "metadata": {},
     "output_type": "execute_result"
    }
   ],
   "source": [
    "new = generate(6, \"Test de positionnement\", [\"BDD\", \"Automation\"])\n",
    "new"
   ]
  },
  {
   "cell_type": "code",
   "execution_count": 72,
   "metadata": {},
   "outputs": [
    {
     "data": {
      "text/plain": [
       "'{\"1\":{\"question\":\"Cassandra et HBase sont des bases de donn\\\\u00e9es\",\"responseA\":\"relationnelles\",\"responseB\":\"orient\\\\u00e9es objet\",\"responseC\":\"orient\\\\u00e9es colonne\",\"responseD\":\"orient\\\\u00e9es graphe\"},\"4\":{\"question\":\"Pour indexer des donn\\\\u00e9es textuelles, je peux utiliser\",\"responseA\":\"ElasticSearch\",\"responseB\":\"Neo4J\",\"responseC\":\"MySQL\",\"responseD\":null},\"3\":{\"question\":\"OrientDB et Neo4J sont des bases de donn\\\\u00e9es\",\"responseA\":\"relationnelles\",\"responseB\":\"orient\\\\u00e9es objet\",\"responseC\":\"orient\\\\u00e9es colonne\",\"responseD\":\"orient\\\\u00e9es graphe\"},\"2\":{\"question\":\"MongoDB et CouchDB sont des bases de donn\\\\u00e9es\",\"responseA\":\"relationnelles\",\"responseB\":\"orient\\\\u00e9es objet\",\"responseC\":\"orient\\\\u00e9es colonne\",\"responseD\":\"orient\\\\u00e9es graphe\"},\"5\":{\"question\":\"A quoi faire attention lorsqu\\'on choisit un syst\\\\u00e8me de base de donn\\\\u00e9es ?\",\"responseA\":\"La d\\\\u00e9finition d\\'un sch\\\\u00e9ma\",\"responseB\":\"La rapidit\\\\u00e9 de lecture\\\\/\\\\u00e9criture\",\"responseC\":\"La diff\\\\u00e9renciation des acc\\\\u00e9s\",\"responseD\":\"Tous ces points\"}}'"
      ]
     },
     "execution_count": 72,
     "metadata": {},
     "output_type": "execute_result"
    }
   ],
   "source": [
    "new.T.to_json()"
   ]
  },
  {
   "cell_type": "code",
   "execution_count": null,
   "metadata": {},
   "outputs": [],
   "source": []
  }
 ],
 "metadata": {
  "kernelspec": {
   "display_name": "Python 3.8.9 64-bit",
   "language": "python",
   "name": "python3"
  },
  "language_info": {
   "codemirror_mode": {
    "name": "ipython",
    "version": 3
   },
   "file_extension": ".py",
   "mimetype": "text/x-python",
   "name": "python",
   "nbconvert_exporter": "python",
   "pygments_lexer": "ipython3",
   "version": "3.8.10"
  },
  "orig_nbformat": 4,
  "vscode": {
   "interpreter": {
    "hash": "31f2aee4e71d21fbe5cf8b01ff0e069b9275f58929596ceb00d14d90e3e16cd6"
   }
  }
 },
 "nbformat": 4,
 "nbformat_minor": 2
}
